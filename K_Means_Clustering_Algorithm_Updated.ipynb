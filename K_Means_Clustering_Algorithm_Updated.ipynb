{
  "nbformat": 4,
  "nbformat_minor": 0,
  "metadata": {
    "colab": {
      "name": "K_Means_Clustering_Algorithm_Updated.ipynb",
      "provenance": [],
      "toc_visible": true,
      "authorship_tag": "ABX9TyPjW1Gr+WDaTsnZe7mXFzwA",
      "include_colab_link": true
    },
    "kernelspec": {
      "name": "python3",
      "display_name": "Python 3"
    }
  },
  "cells": [
    {
      "cell_type": "markdown",
      "metadata": {
        "id": "view-in-github",
        "colab_type": "text"
      },
      "source": [
        "<a href=\"https://colab.research.google.com/github/EdilTurdum/Machine-Learning-Course/blob/master/K_Means_Clustering_Algorithm_Updated.ipynb\" target=\"_parent\"><img src=\"https://colab.research.google.com/assets/colab-badge.svg\" alt=\"Open In Colab\"/></a>"
      ]
    },
    {
      "cell_type": "markdown",
      "metadata": {
        "id": "uHk9j8PvJ_uf",
        "colab_type": "text"
      },
      "source": [
        "#Import the libraries"
      ]
    },
    {
      "cell_type": "code",
      "metadata": {
        "id": "JBV5IcT4J212",
        "colab_type": "code",
        "colab": {}
      },
      "source": [
        "import numpy as np\n",
        "import pandas as pd\n",
        "import matplotlib\n",
        "from matplotlib import pyplot as plt\n",
        "from random import randrange as rand\n",
        "import math"
      ],
      "execution_count": null,
      "outputs": []
    },
    {
      "cell_type": "markdown",
      "metadata": {
        "id": "D-zqlPmmJ-pn",
        "colab_type": "text"
      },
      "source": [
        "#Get the data"
      ]
    },
    {
      "cell_type": "code",
      "metadata": {
        "id": "FbmH8BfhLMJL",
        "colab_type": "code",
        "colab": {}
      },
      "source": [
        "datapoints = [\n",
        "              [1,0],\n",
        "              [2,1],\n",
        "              [2,2],\n",
        "              [3,3],\n",
        "              [7,8],\n",
        "              [9,10],\n",
        "              [7,6],\n",
        "              [5,7]]\n",
        "K = 2 #number of clusters\n",
        "ds = pd.DataFrame(data=datapoints, columns=['X','Y'])\n"
      ],
      "execution_count": null,
      "outputs": []
    },
    {
      "cell_type": "markdown",
      "metadata": {
        "id": "PFs19kMFUBsu",
        "colab_type": "text"
      },
      "source": [
        "#Identify the limits for each column\n",
        "This is necessary to generate the first random values for the cluster centroids"
      ]
    },
    {
      "cell_type": "code",
      "metadata": {
        "id": "Hog1b89rytHK",
        "colab_type": "code",
        "colab": {}
      },
      "source": [
        "limits = pd.DataFrame(columns=['Min','Max', 'Column'])\n",
        "data=[]\n",
        "for col in ds:\n",
        "  data.append([ds[col].min(), ds[col].max(), col])\n",
        "limits = limits.append(pd.DataFrame(data, columns=['Min','Max', 'Column']))\n",
        "limits"
      ],
      "execution_count": null,
      "outputs": []
    },
    {
      "cell_type": "markdown",
      "metadata": {
        "id": "Ijjb_dNpXCil",
        "colab_type": "text"
      },
      "source": [
        "#Generate random centroids for K clusters"
      ]
    },
    {
      "cell_type": "code",
      "metadata": {
        "id": "ppb3NKHSNGAF",
        "colab_type": "code",
        "colab": {}
      },
      "source": [
        "centroids = []\n",
        "for k in range(K):\n",
        "  centroids.append([k])\n",
        "  for i in range(limits['Column'].count()):\n",
        "    centroids[k].append(rand(limits['Min'].loc[i], limits['Max'].loc[i]))\n",
        "cols=limits['Column'].tolist()\n",
        "cols.insert(0,'Cluster ID')\n",
        "clusters = pd.DataFrame(centroids, columns=cols)\n",
        "print(clusters)"
      ],
      "execution_count": null,
      "outputs": []
    },
    {
      "cell_type": "markdown",
      "metadata": {
        "id": "FqO6mjNjWGTu",
        "colab_type": "text"
      },
      "source": [
        "# Assign data points to clusters"
      ]
    },
    {
      "cell_type": "code",
      "metadata": {
        "id": "V76tDNtWXHxy",
        "colab_type": "code",
        "colab": {}
      },
      "source": [
        "ds['Cluster']=1 #create a column\n",
        "for point in range(len(ds.index)):\n",
        "  ds['Cluster'].iloc[point] = clusters['Cluster ID'].iloc[0]\n",
        "  print('Current point: ' +  str(ds.iloc[point].values))\n",
        "  for cent in range(len(clusters.index)):\n",
        "    if math.sqrt(sum([(a - b) ** 2 for a, b in zip(ds.iloc[point,:-1], clusters.iloc[cent,1:])])) < math.sqrt(sum([(a - b) ** 2 for a, b in zip(ds.iloc[point,:-1], clusters.iloc[0,1:])])):\n",
        "      print('-->Changing cluster.')\n",
        "      ds['Cluster'].iloc[point] = cent\n",
        "      print('-->New cluster: ' + str(ds.iloc[point].values))\n",
        "ds"
      ],
      "execution_count": null,
      "outputs": []
    },
    {
      "cell_type": "markdown",
      "metadata": {
        "id": "2s8ech4BXAdx",
        "colab_type": "text"
      },
      "source": [
        "#Move the cluster centroids to the average of X and Y values of each cluster. Reassign each data point the the closest cluster centroid. Repeat until no more data points change their centroids."
      ]
    },
    {
      "cell_type": "code",
      "metadata": {
        "id": "Nl20gGQnQ7nQ",
        "colab_type": "code",
        "colab": {}
      },
      "source": [
        "test = True\n",
        "cnt=0\n",
        "while test:\n",
        "  test = False\n",
        "  cnt+1\n",
        "  for cent in range(len(clusters.index)):\n",
        "    clusters.loc[cent, 'X'] = ds.loc[ds['Cluster']==cent].X.mean()\n",
        "    clusters.loc[cent, 'Y'] = ds.loc[ds['Cluster']==cent].Y.mean()\n",
        "  \n",
        "  for point in range(len(ds.index)):\n",
        "    print('Current point: ' +  str(ds.iloc[point].values))\n",
        "    for cent in range(len(clusters.index)):\n",
        "      if math.sqrt(sum([(a - b) ** 2 for a, b in zip(ds.iloc[point,:-1], clusters.iloc[cent,1:])])) < math.sqrt(sum([(a - b) ** 2 for a, b in zip(ds.iloc[point,:-1], clusters.iloc[ds.iloc[point,-1].item(),1:])])):\n",
        "        print('-->Changing cluster.')\n",
        "        ds['Cluster'].iloc[point] = cent\n",
        "        print('-->New cluster: ' + str(ds.iloc[point].values))\n",
        "        test = True\n",
        "print('Done in '+str(cnt)' steps...')\n"
      ],
      "execution_count": null,
      "outputs": []
    },
    {
      "cell_type": "markdown",
      "metadata": {
        "id": "ofRUdOTZY_k0",
        "colab_type": "text"
      },
      "source": [
        "#Scatter plot the output"
      ]
    },
    {
      "cell_type": "code",
      "metadata": {
        "id": "YdUPgInaY54I",
        "colab_type": "code",
        "colab": {}
      },
      "source": [
        "vmin = 0\n",
        "vmax = ds['Cluster'].max()\n",
        "cmap = matplotlib.cm.Set1\n",
        "norm = matplotlib.colors.Normalize(vmin=vmin, vmax=vmax)\n",
        "\n",
        "plt.scatter(ds['X'], ds['Y'], c=ds['Cluster'], s=100, cmap= cmap)\n",
        "\n",
        "plt.scatter(clusters['X'], clusters['Y'], c='yellow', s=200)\n",
        "plt.gca().set_aspect('equal', adjustable='box')\n",
        "plt.ylim(limits[limits.Column == 'Y'].Min.item()-0.5,limits[limits.Column == 'Y'].Max.item()+0.5)\n",
        "plt.xlim(limits[limits.Column == 'X'].Min.item()-0.5,limits[limits.Column == 'X'].Max.item()+0.5)\n",
        "plt.title('2D view of clusters')\n",
        "plt.xlabel('X')\n",
        "plt.ylabel('Y')\n",
        "plt.show()"
      ],
      "execution_count": null,
      "outputs": []
    }
  ]
}