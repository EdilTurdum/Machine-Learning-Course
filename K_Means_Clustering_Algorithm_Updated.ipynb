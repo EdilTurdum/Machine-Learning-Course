{
  "nbformat": 4,
  "nbformat_minor": 0,
  "metadata": {
    "colab": {
      "name": "K_Means_Clustering_Algorithm_Updated.ipynb",
      "provenance": [],
      "toc_visible": true,
      "authorship_tag": "ABX9TyN6nL6kUpEnT+lIVX826zdM",
      "include_colab_link": true
    },
    "kernelspec": {
      "name": "python3",
      "display_name": "Python 3"
    }
  },
  "cells": [
    {
      "cell_type": "markdown",
      "metadata": {
        "id": "view-in-github",
        "colab_type": "text"
      },
      "source": [
        "<a href=\"https://colab.research.google.com/github/EdilTurdum/Machine-Learning-Course/blob/master/K_Means_Clustering_Algorithm_Updated.ipynb\" target=\"_parent\"><img src=\"https://colab.research.google.com/assets/colab-badge.svg\" alt=\"Open In Colab\"/></a>"
      ]
    },
    {
      "cell_type": "markdown",
      "metadata": {
        "id": "uHk9j8PvJ_uf",
        "colab_type": "text"
      },
      "source": [
        "#Import the libraries"
      ]
    },
    {
      "cell_type": "code",
      "metadata": {
        "id": "JBV5IcT4J212",
        "colab_type": "code",
        "colab": {}
      },
      "source": [
        "import numpy as np\n",
        "import pandas as pd\n",
        "import matplotlib\n",
        "from matplotlib import pyplot as plt\n",
        "from random import randrange as rand\n",
        "import math"
      ],
      "execution_count": 1,
      "outputs": []
    },
    {
      "cell_type": "markdown",
      "metadata": {
        "id": "D-zqlPmmJ-pn",
        "colab_type": "text"
      },
      "source": [
        "#Get the data"
      ]
    },
    {
      "cell_type": "code",
      "metadata": {
        "id": "FbmH8BfhLMJL",
        "colab_type": "code",
        "colab": {}
      },
      "source": [
        "datapoints = [\n",
        "              [1,0],\n",
        "              [2,1],\n",
        "              [2,2],\n",
        "              [3,3],\n",
        "              [7,8],\n",
        "              [9,10],\n",
        "              [7,6],\n",
        "              [5,7]]\n",
        "K = 2 #number of clusters\n",
        "ds = pd.DataFrame(data=datapoints, columns=['X','Y'])\n",
        "minX = ds['X'].min()\n",
        "maxX = ds['X'].max()\n",
        "minY = ds['Y'].min()\n",
        "maxY = ds['Y'].max()"
      ],
      "execution_count": 2,
      "outputs": []
    },
    {
      "cell_type": "code",
      "metadata": {
        "id": "uFG1e-AjyYuT",
        "colab_type": "code",
        "colab": {
          "base_uri": "https://localhost:8080/",
          "height": 87
        },
        "outputId": "3144f3d6-965a-4c8e-9a05-e521461f785e"
      },
      "source": [
        "print('Min X: ' + str(minX))\n",
        "print('Max X: ' + str(maxX))\n",
        "\n",
        "print('Min Y: ' + str(minY))\n",
        "print('Max Y: ' + str(maxY))"
      ],
      "execution_count": 3,
      "outputs": [
        {
          "output_type": "stream",
          "text": [
            "Min X: 1\n",
            "Max X: 9\n",
            "Min Y: 0\n",
            "Max Y: 10\n"
          ],
          "name": "stdout"
        }
      ]
    },
    {
      "cell_type": "markdown",
      "metadata": {
        "id": "PFs19kMFUBsu",
        "colab_type": "text"
      },
      "source": [
        "#Identify the limits for each column\n",
        "This is necessary to generate the first random values for the cluster centroids"
      ]
    },
    {
      "cell_type": "code",
      "metadata": {
        "id": "Hog1b89rytHK",
        "colab_type": "code",
        "colab": {
          "base_uri": "https://localhost:8080/",
          "height": 143
        },
        "outputId": "1bc2e487-7b54-4f21-cdea-563bb76feced"
      },
      "source": [
        "limits = pd.DataFrame(columns=['Min','Max', 'Column'])\n",
        "data=[]\n",
        "for col in ds:\n",
        "  print(ds[col].name)\n",
        "  data.append([ds[col].min(), ds[col].max(), col])\n",
        "limits = limits.append(pd.DataFrame(data, columns=['Min','Max', 'Column']))\n",
        "limits"
      ],
      "execution_count": 4,
      "outputs": [
        {
          "output_type": "stream",
          "text": [
            "X\n",
            "Y\n"
          ],
          "name": "stdout"
        },
        {
          "output_type": "execute_result",
          "data": {
            "text/html": [
              "<div>\n",
              "<style scoped>\n",
              "    .dataframe tbody tr th:only-of-type {\n",
              "        vertical-align: middle;\n",
              "    }\n",
              "\n",
              "    .dataframe tbody tr th {\n",
              "        vertical-align: top;\n",
              "    }\n",
              "\n",
              "    .dataframe thead th {\n",
              "        text-align: right;\n",
              "    }\n",
              "</style>\n",
              "<table border=\"1\" class=\"dataframe\">\n",
              "  <thead>\n",
              "    <tr style=\"text-align: right;\">\n",
              "      <th></th>\n",
              "      <th>Min</th>\n",
              "      <th>Max</th>\n",
              "      <th>Column</th>\n",
              "    </tr>\n",
              "  </thead>\n",
              "  <tbody>\n",
              "    <tr>\n",
              "      <th>0</th>\n",
              "      <td>1</td>\n",
              "      <td>9</td>\n",
              "      <td>X</td>\n",
              "    </tr>\n",
              "    <tr>\n",
              "      <th>1</th>\n",
              "      <td>0</td>\n",
              "      <td>10</td>\n",
              "      <td>Y</td>\n",
              "    </tr>\n",
              "  </tbody>\n",
              "</table>\n",
              "</div>"
            ],
            "text/plain": [
              "  Min Max Column\n",
              "0   1   9      X\n",
              "1   0  10      Y"
            ]
          },
          "metadata": {
            "tags": []
          },
          "execution_count": 4
        }
      ]
    },
    {
      "cell_type": "markdown",
      "metadata": {
        "id": "Ijjb_dNpXCil",
        "colab_type": "text"
      },
      "source": [
        "#Generate random centroids for K clusters"
      ]
    },
    {
      "cell_type": "code",
      "metadata": {
        "id": "ppb3NKHSNGAF",
        "colab_type": "code",
        "colab": {
          "base_uri": "https://localhost:8080/",
          "height": 105
        },
        "outputId": "570562da-3862-42df-9ba0-9310c563051f"
      },
      "source": [
        "centroids = []\n",
        "for k in range(K):\n",
        "  centroids.append([k])\n",
        "  for i in range(limits['Column'].count()):\n",
        "    centroids[k].append(rand(limits['Min'].loc[i], limits['Max'].loc[i]))\n",
        "print(centroids)\n",
        "cols=limits['Column'].tolist()\n",
        "cols.insert(0,'Cluster ID')\n",
        "clusters = pd.DataFrame(centroids, columns=cols)\n",
        "print(clusters)\n",
        "print(cols)"
      ],
      "execution_count": 5,
      "outputs": [
        {
          "output_type": "stream",
          "text": [
            "[[0, 1, 3], [1, 2, 1]]\n",
            "   Cluster ID  X  Y\n",
            "0           0  1  3\n",
            "1           1  2  1\n",
            "['Cluster ID', 'X', 'Y']\n"
          ],
          "name": "stdout"
        }
      ]
    },
    {
      "cell_type": "code",
      "metadata": {
        "id": "V76tDNtWXHxy",
        "colab_type": "code",
        "colab": {
          "base_uri": "https://localhost:8080/",
          "height": 1000
        },
        "outputId": "aee632f7-9d38-41f0-97a4-fc8603b9b608"
      },
      "source": [
        "ds['Cluster']=1\n",
        "for point in range(len(ds.index)):\n",
        "  print('Current point: ' +  str(ds.iloc[point].values))\n",
        "  ds['Cluster'].iloc[point] = clusters['Cluster ID'].iloc[0]\n",
        "  #print('After assigning default cluster: ' + ds.iloc[point].values)\n",
        "  for cent in range(len(clusters.index)):\n",
        "    print(str(cent)+ ' : ' + str(point))\n",
        "    print('Centroid dist: ' + str(math.sqrt(sum([(a - b) ** 2 for a, b in zip(ds.iloc[point,:-1], clusters.iloc[cent,1:])])))+ '   Cluster dist: '+ str(math.sqrt(sum([(a - b) ** 2 for a, b in zip(ds.iloc[point,:-1], clusters.iloc[0,1:])]))))\n",
        "    if math.sqrt(sum([(a - b) ** 2 for a, b in zip(ds.iloc[point,:-1], clusters.iloc[cent,1:])])) < math.sqrt(sum([(a - b) ** 2 for a, b in zip(ds.iloc[point,:-1], clusters.iloc[0,1:])])):\n",
        "      print('-->Changing cluster.')\n",
        "      ds['Cluster'].iloc[point] = cent\n",
        "ds"
      ],
      "execution_count": 6,
      "outputs": [
        {
          "output_type": "stream",
          "text": [
            "Current point: [1 0 1]\n",
            "0 : 0\n",
            "Centroid dist: 3.0   Cluster dist: 3.0\n",
            "1 : 0\n",
            "Centroid dist: 1.4142135623730951   Cluster dist: 3.0\n",
            "-->Changing cluster.\n",
            "Current point: [2 1 1]\n",
            "0 : 1\n",
            "Centroid dist: 2.23606797749979   Cluster dist: 2.23606797749979\n",
            "1 : 1\n",
            "Centroid dist: 0.0   Cluster dist: 2.23606797749979\n",
            "-->Changing cluster.\n",
            "Current point: [2 2 1]\n",
            "0 : 2\n",
            "Centroid dist: 1.4142135623730951   Cluster dist: 1.4142135623730951\n",
            "1 : 2\n",
            "Centroid dist: 1.0   Cluster dist: 1.4142135623730951\n",
            "-->Changing cluster.\n",
            "Current point: [3 3 1]\n",
            "0 : 3\n",
            "Centroid dist: 2.0   Cluster dist: 2.0\n",
            "1 : 3\n",
            "Centroid dist: 2.23606797749979   Cluster dist: 2.0\n",
            "Current point: [7 8 1]\n",
            "0 : 4\n",
            "Centroid dist: 7.810249675906654   Cluster dist: 7.810249675906654\n",
            "1 : 4\n",
            "Centroid dist: 8.602325267042627   Cluster dist: 7.810249675906654\n",
            "Current point: [ 9 10  1]\n",
            "0 : 5\n",
            "Centroid dist: 10.63014581273465   Cluster dist: 10.63014581273465\n",
            "1 : 5\n",
            "Centroid dist: 11.40175425099138   Cluster dist: 10.63014581273465\n",
            "Current point: [7 6 1]\n",
            "0 : 6\n",
            "Centroid dist: 6.708203932499369   Cluster dist: 6.708203932499369\n",
            "1 : 6\n",
            "Centroid dist: 7.0710678118654755   Cluster dist: 6.708203932499369\n",
            "Current point: [5 7 1]\n",
            "0 : 7\n",
            "Centroid dist: 5.656854249492381   Cluster dist: 5.656854249492381\n",
            "1 : 7\n",
            "Centroid dist: 6.708203932499369   Cluster dist: 5.656854249492381\n"
          ],
          "name": "stdout"
        },
        {
          "output_type": "execute_result",
          "data": {
            "text/html": [
              "<div>\n",
              "<style scoped>\n",
              "    .dataframe tbody tr th:only-of-type {\n",
              "        vertical-align: middle;\n",
              "    }\n",
              "\n",
              "    .dataframe tbody tr th {\n",
              "        vertical-align: top;\n",
              "    }\n",
              "\n",
              "    .dataframe thead th {\n",
              "        text-align: right;\n",
              "    }\n",
              "</style>\n",
              "<table border=\"1\" class=\"dataframe\">\n",
              "  <thead>\n",
              "    <tr style=\"text-align: right;\">\n",
              "      <th></th>\n",
              "      <th>X</th>\n",
              "      <th>Y</th>\n",
              "      <th>Cluster</th>\n",
              "    </tr>\n",
              "  </thead>\n",
              "  <tbody>\n",
              "    <tr>\n",
              "      <th>0</th>\n",
              "      <td>1</td>\n",
              "      <td>0</td>\n",
              "      <td>1</td>\n",
              "    </tr>\n",
              "    <tr>\n",
              "      <th>1</th>\n",
              "      <td>2</td>\n",
              "      <td>1</td>\n",
              "      <td>1</td>\n",
              "    </tr>\n",
              "    <tr>\n",
              "      <th>2</th>\n",
              "      <td>2</td>\n",
              "      <td>2</td>\n",
              "      <td>1</td>\n",
              "    </tr>\n",
              "    <tr>\n",
              "      <th>3</th>\n",
              "      <td>3</td>\n",
              "      <td>3</td>\n",
              "      <td>0</td>\n",
              "    </tr>\n",
              "    <tr>\n",
              "      <th>4</th>\n",
              "      <td>7</td>\n",
              "      <td>8</td>\n",
              "      <td>0</td>\n",
              "    </tr>\n",
              "    <tr>\n",
              "      <th>5</th>\n",
              "      <td>9</td>\n",
              "      <td>10</td>\n",
              "      <td>0</td>\n",
              "    </tr>\n",
              "    <tr>\n",
              "      <th>6</th>\n",
              "      <td>7</td>\n",
              "      <td>6</td>\n",
              "      <td>0</td>\n",
              "    </tr>\n",
              "    <tr>\n",
              "      <th>7</th>\n",
              "      <td>5</td>\n",
              "      <td>7</td>\n",
              "      <td>0</td>\n",
              "    </tr>\n",
              "  </tbody>\n",
              "</table>\n",
              "</div>"
            ],
            "text/plain": [
              "   X   Y  Cluster\n",
              "0  1   0        1\n",
              "1  2   1        1\n",
              "2  2   2        1\n",
              "3  3   3        0\n",
              "4  7   8        0\n",
              "5  9  10        0\n",
              "6  7   6        0\n",
              "7  5   7        0"
            ]
          },
          "metadata": {
            "tags": []
          },
          "execution_count": 6
        }
      ]
    },
    {
      "cell_type": "code",
      "metadata": {
        "id": "bD6vkASPSAAz",
        "colab_type": "code",
        "colab": {
          "base_uri": "https://localhost:8080/",
          "height": 312
        },
        "outputId": "ba82340b-1734-4ba3-a43d-27b1dd6e3c86"
      },
      "source": [
        "vmin = 0\n",
        "vmax = ds['Cluster'].max()\n",
        "print(vmax)\n",
        "cmap = matplotlib.cm.Set1\n",
        "norm = matplotlib.colors.Normalize(vmin=vmin, vmax=vmax)\n",
        "\n",
        "#for i in range(ds['Cluster'].max()+1):\n",
        "#plt.scatter(ds['X'].loc[ds['Cluster']==i], ds['Y'].loc[ds['Cluster']==i], c=ds['Cluster'], cmap= cmap)\n",
        "plt.scatter(ds['X'], ds['Y'], c=ds['Cluster'], s=100, cmap= cmap)\n",
        "\n",
        "\n",
        "\n",
        "# Alternative 2: using scatter without specifying norm\n",
        "plt.scatter(clusters['X'], clusters['Y'], c='yellow', s=200)\n",
        "plt.gca().set_aspect('equal', adjustable='box')\n",
        "plt.ylim(minY-0.5,maxY+0.5)\n",
        "plt.title('2D view of clusters')\n",
        "plt.xlabel('X')\n",
        "plt.ylabel('Y')\n",
        "plt.show()"
      ],
      "execution_count": 12,
      "outputs": [
        {
          "output_type": "stream",
          "text": [
            "1\n"
          ],
          "name": "stdout"
        },
        {
          "output_type": "display_data",
          "data": {
            "image/png": "[encoded data removed]",
            "text/plain": [
              "<Figure size 432x288 with 1 Axes>"
            ]
          },
          "metadata": {
            "tags": [],
            "needs_background": "light"
          }
        }
      ]
    }
  ]
}