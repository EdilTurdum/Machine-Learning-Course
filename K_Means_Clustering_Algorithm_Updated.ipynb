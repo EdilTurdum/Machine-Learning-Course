{
  "nbformat": 4,
  "nbformat_minor": 0,
  "metadata": {
    "colab": {
      "name": "K_Means_Clustering_Algorithm_Updated.ipynb",
      "provenance": [],
      "toc_visible": true,
      "authorship_tag": "ABX9TyPQ/lFlOpL5NMSrcsSKRRSn",
      "include_colab_link": true
    },
    "kernelspec": {
      "name": "python3",
      "display_name": "Python 3"
    }
  },
  "cells": [
    {
      "cell_type": "markdown",
      "metadata": {
        "id": "view-in-github",
        "colab_type": "text"
      },
      "source": [
        "<a href=\"https://colab.research.google.com/github/EdilTurdum/Machine-Learning-Course/blob/master/K_Means_Clustering_Algorithm_Updated.ipynb\" target=\"_parent\"><img src=\"https://colab.research.google.com/assets/colab-badge.svg\" alt=\"Open In Colab\"/></a>"
      ]
    },
    {
      "cell_type": "markdown",
      "metadata": {
        "id": "uHk9j8PvJ_uf",
        "colab_type": "text"
      },
      "source": [
        "#Import the libraries"
      ]
    },
    {
      "cell_type": "code",
      "metadata": {
        "id": "JBV5IcT4J212",
        "colab_type": "code",
        "colab": {}
      },
      "source": [
        "import numpy as np\n",
        "import pandas as pd\n",
        "import matplotlib\n",
        "from matplotlib import pyplot as plt\n",
        "from random import randrange as rand\n",
        "import math"
      ],
      "execution_count": 21,
      "outputs": []
    },
    {
      "cell_type": "markdown",
      "metadata": {
        "id": "D-zqlPmmJ-pn",
        "colab_type": "text"
      },
      "source": [
        "#Get the data"
      ]
    },
    {
      "cell_type": "code",
      "metadata": {
        "id": "FbmH8BfhLMJL",
        "colab_type": "code",
        "colab": {}
      },
      "source": [
        "datapoints = [\n",
        "              [1,0],\n",
        "              [2,1],\n",
        "              [2,2],\n",
        "              [3,3],\n",
        "              [7,8],\n",
        "              [9,10],\n",
        "              [7,6],\n",
        "              [5,7]]\n",
        "K = 2 #number of clusters\n",
        "ds = pd.DataFrame(data=datapoints, columns=['X','Y'])\n"
      ],
      "execution_count": 22,
      "outputs": []
    },
    {
      "cell_type": "markdown",
      "metadata": {
        "id": "PFs19kMFUBsu",
        "colab_type": "text"
      },
      "source": [
        "#Identify the limits for each column\n",
        "This is necessary to generate the first random values for the cluster centroids"
      ]
    },
    {
      "cell_type": "code",
      "metadata": {
        "id": "Hog1b89rytHK",
        "colab_type": "code",
        "colab": {
          "base_uri": "https://localhost:8080/",
          "height": 107
        },
        "outputId": "a3aea6ed-f157-4123-dcc0-dd69f3db1fd2"
      },
      "source": [
        "limits = pd.DataFrame(columns=['Min','Max', 'Column'])\n",
        "data=[]\n",
        "for col in ds:\n",
        "  data.append([ds[col].min(), ds[col].max(), col])\n",
        "limits = limits.append(pd.DataFrame(data, columns=['Min','Max', 'Column']))\n",
        "limits"
      ],
      "execution_count": 23,
      "outputs": [
        {
          "output_type": "execute_result",
          "data": {
            "text/html": [
              "<div>\n",
              "<style scoped>\n",
              "    .dataframe tbody tr th:only-of-type {\n",
              "        vertical-align: middle;\n",
              "    }\n",
              "\n",
              "    .dataframe tbody tr th {\n",
              "        vertical-align: top;\n",
              "    }\n",
              "\n",
              "    .dataframe thead th {\n",
              "        text-align: right;\n",
              "    }\n",
              "</style>\n",
              "<table border=\"1\" class=\"dataframe\">\n",
              "  <thead>\n",
              "    <tr style=\"text-align: right;\">\n",
              "      <th></th>\n",
              "      <th>Min</th>\n",
              "      <th>Max</th>\n",
              "      <th>Column</th>\n",
              "    </tr>\n",
              "  </thead>\n",
              "  <tbody>\n",
              "    <tr>\n",
              "      <th>0</th>\n",
              "      <td>1</td>\n",
              "      <td>9</td>\n",
              "      <td>X</td>\n",
              "    </tr>\n",
              "    <tr>\n",
              "      <th>1</th>\n",
              "      <td>0</td>\n",
              "      <td>10</td>\n",
              "      <td>Y</td>\n",
              "    </tr>\n",
              "  </tbody>\n",
              "</table>\n",
              "</div>"
            ],
            "text/plain": [
              "  Min Max Column\n",
              "0   1   9      X\n",
              "1   0  10      Y"
            ]
          },
          "metadata": {
            "tags": []
          },
          "execution_count": 23
        }
      ]
    },
    {
      "cell_type": "markdown",
      "metadata": {
        "id": "Ijjb_dNpXCil",
        "colab_type": "text"
      },
      "source": [
        "#Generate random centroids for K clusters"
      ]
    },
    {
      "cell_type": "code",
      "metadata": {
        "id": "ppb3NKHSNGAF",
        "colab_type": "code",
        "colab": {
          "base_uri": "https://localhost:8080/",
          "height": 70
        },
        "outputId": "d5a55b67-a716-4f98-f378-0de5128edf78"
      },
      "source": [
        "centroids = []\n",
        "for k in range(K):\n",
        "  centroids.append([k])\n",
        "  for i in range(limits['Column'].count()):\n",
        "    centroids[k].append(rand(limits['Min'].loc[i], limits['Max'].loc[i]))\n",
        "cols=limits['Column'].tolist()\n",
        "cols.insert(0,'Cluster ID')\n",
        "clusters = pd.DataFrame(centroids, columns=cols)\n",
        "print(clusters)"
      ],
      "execution_count": 24,
      "outputs": [
        {
          "output_type": "stream",
          "text": [
            "   Cluster ID  X  Y\n",
            "0           0  8  8\n",
            "1           1  8  6\n"
          ],
          "name": "stdout"
        }
      ]
    },
    {
      "cell_type": "markdown",
      "metadata": {
        "id": "FqO6mjNjWGTu",
        "colab_type": "text"
      },
      "source": [
        "# Assign data points to clusters"
      ]
    },
    {
      "cell_type": "code",
      "metadata": {
        "id": "V76tDNtWXHxy",
        "colab_type": "code",
        "colab": {
          "base_uri": "https://localhost:8080/",
          "height": 518
        },
        "outputId": "10c5b5f7-a46e-451f-fed5-28e29e28b66c"
      },
      "source": [
        "ds['Cluster']=1\n",
        "for point in range(len(ds.index)):\n",
        "  print('Current point: ' +  str(ds.iloc[point].values))\n",
        "  ds['Cluster'].iloc[point] = clusters['Cluster ID'].iloc[0]\n",
        "  for cent in range(len(clusters.index)):\n",
        "    #print(str(cent)+ ' : ' + str(point))\n",
        "    #print('Centroid dist: ' + str(math.sqrt(sum([(a - b) ** 2 for a, b in zip(ds.iloc[point,:-1], clusters.iloc[cent,1:])])))+ '   Cluster dist: '+ str(math.sqrt(sum([(a - b) ** 2 for a, b in zip(ds.iloc[point,:-1], clusters.iloc[0,1:])]))))\n",
        "    if math.sqrt(sum([(a - b) ** 2 for a, b in zip(ds.iloc[point,:-1], clusters.iloc[cent,1:])])) < math.sqrt(sum([(a - b) ** 2 for a, b in zip(ds.iloc[point,:-1], clusters.iloc[0,1:])])):\n",
        "      print('-->Changing cluster.')\n",
        "      ds['Cluster'].iloc[point] = cent\n",
        "ds"
      ],
      "execution_count": 25,
      "outputs": [
        {
          "output_type": "stream",
          "text": [
            "Current point: [1 0 1]\n",
            "-->Changing cluster.\n",
            "Current point: [2 1 1]\n",
            "-->Changing cluster.\n",
            "Current point: [2 2 1]\n",
            "-->Changing cluster.\n",
            "Current point: [3 3 1]\n",
            "-->Changing cluster.\n",
            "Current point: [7 8 1]\n",
            "Current point: [ 9 10  1]\n",
            "Current point: [7 6 1]\n",
            "-->Changing cluster.\n",
            "Current point: [5 7 1]\n"
          ],
          "name": "stdout"
        },
        {
          "output_type": "execute_result",
          "data": {
            "text/html": [
              "<div>\n",
              "<style scoped>\n",
              "    .dataframe tbody tr th:only-of-type {\n",
              "        vertical-align: middle;\n",
              "    }\n",
              "\n",
              "    .dataframe tbody tr th {\n",
              "        vertical-align: top;\n",
              "    }\n",
              "\n",
              "    .dataframe thead th {\n",
              "        text-align: right;\n",
              "    }\n",
              "</style>\n",
              "<table border=\"1\" class=\"dataframe\">\n",
              "  <thead>\n",
              "    <tr style=\"text-align: right;\">\n",
              "      <th></th>\n",
              "      <th>X</th>\n",
              "      <th>Y</th>\n",
              "      <th>Cluster</th>\n",
              "    </tr>\n",
              "  </thead>\n",
              "  <tbody>\n",
              "    <tr>\n",
              "      <th>0</th>\n",
              "      <td>1</td>\n",
              "      <td>0</td>\n",
              "      <td>1</td>\n",
              "    </tr>\n",
              "    <tr>\n",
              "      <th>1</th>\n",
              "      <td>2</td>\n",
              "      <td>1</td>\n",
              "      <td>1</td>\n",
              "    </tr>\n",
              "    <tr>\n",
              "      <th>2</th>\n",
              "      <td>2</td>\n",
              "      <td>2</td>\n",
              "      <td>1</td>\n",
              "    </tr>\n",
              "    <tr>\n",
              "      <th>3</th>\n",
              "      <td>3</td>\n",
              "      <td>3</td>\n",
              "      <td>1</td>\n",
              "    </tr>\n",
              "    <tr>\n",
              "      <th>4</th>\n",
              "      <td>7</td>\n",
              "      <td>8</td>\n",
              "      <td>0</td>\n",
              "    </tr>\n",
              "    <tr>\n",
              "      <th>5</th>\n",
              "      <td>9</td>\n",
              "      <td>10</td>\n",
              "      <td>0</td>\n",
              "    </tr>\n",
              "    <tr>\n",
              "      <th>6</th>\n",
              "      <td>7</td>\n",
              "      <td>6</td>\n",
              "      <td>1</td>\n",
              "    </tr>\n",
              "    <tr>\n",
              "      <th>7</th>\n",
              "      <td>5</td>\n",
              "      <td>7</td>\n",
              "      <td>0</td>\n",
              "    </tr>\n",
              "  </tbody>\n",
              "</table>\n",
              "</div>"
            ],
            "text/plain": [
              "   X   Y  Cluster\n",
              "0  1   0        1\n",
              "1  2   1        1\n",
              "2  2   2        1\n",
              "3  3   3        1\n",
              "4  7   8        0\n",
              "5  9  10        0\n",
              "6  7   6        1\n",
              "7  5   7        0"
            ]
          },
          "metadata": {
            "tags": []
          },
          "execution_count": 25
        }
      ]
    },
    {
      "cell_type": "markdown",
      "metadata": {
        "id": "2s8ech4BXAdx",
        "colab_type": "text"
      },
      "source": [
        "#Plot the clusters of data points and the cluster centroids"
      ]
    },
    {
      "cell_type": "code",
      "metadata": {
        "id": "YGSy-U47XxwX",
        "colab_type": "code",
        "colab": {
          "base_uri": "https://localhost:8080/",
          "height": 34
        },
        "outputId": "287abd02-130d-458e-c985-71f187dbaca5"
      },
      "source": [
        "limits[limits['Column'] == 'Y'].Min.item()"
      ],
      "execution_count": 26,
      "outputs": [
        {
          "output_type": "execute_result",
          "data": {
            "text/plain": [
              "0"
            ]
          },
          "metadata": {
            "tags": []
          },
          "execution_count": 26
        }
      ]
    },
    {
      "cell_type": "code",
      "metadata": {
        "id": "bD6vkASPSAAz",
        "colab_type": "code",
        "colab": {
          "base_uri": "https://localhost:8080/",
          "height": 312
        },
        "outputId": "2cc9acac-7bde-4817-da18-aa9cda5d47e7"
      },
      "source": [
        "vmin = 0\n",
        "vmax = ds['Cluster'].max()\n",
        "print(vmax)\n",
        "cmap = matplotlib.cm.Set1\n",
        "norm = matplotlib.colors.Normalize(vmin=vmin, vmax=vmax)\n",
        "\n",
        "plt.scatter(ds['X'], ds['Y'], c=ds['Cluster'], s=100, cmap= cmap)\n",
        "\n",
        "plt.scatter(clusters['X'], clusters['Y'], c='yellow', s=200)\n",
        "plt.gca().set_aspect('equal', adjustable='box')\n",
        "plt.ylim(limits[limits.Column == 'Y'].Min.item()-0.5,limits[limits.Column == 'Y'].Max.item()+0.5)\n",
        "plt.xlim(limits[limits.Column == 'X'].Min.item()-0.5,limits[limits.Column == 'X'].Max.item()+0.5)\n",
        "plt.title('2D view of clusters')\n",
        "plt.xlabel('X')\n",
        "plt.ylabel('Y')\n",
        "plt.show()"
      ],
      "execution_count": 27,
      "outputs": [
        {
          "output_type": "stream",
          "text": [
            "1\n"
          ],
          "name": "stdout"
        },
        {
          "output_type": "display_data",
          "data": {
            "image/png": "[encoded data removed]",
            "text/plain": [
              "<Figure size 432x288 with 1 Axes>"
            ]
          },
          "metadata": {
            "tags": [],
            "needs_background": "light"
          }
        }
      ]
    }
  ]
}